{
 "cells": [
  {
   "cell_type": "code",
   "execution_count": null,
   "metadata": {},
   "outputs": [],
   "source": [
    "# write a Python function to identify all the duplicates in a given list of numbers\n",
    "\n",
    "a = [1, 2, 3, 4, 3, 4, 3] # output: 3, 4\n",
    "\n",
    "def duplicate(l1):\n",
    "\t\"\"\"\t\n",
    "\tFind duplicates in a given list of numbers.\n",
    "\tOutputs duplicate numbers\n",
    "\t\"\"\"\n",
    "\tc = {}\n",
    "\tfor i in range(0, len(a)):\n",
    "\t\tc[a[i]] # make sure it is new\n",
    "\t\t# else +1\n",
    "\t# which nums are duplicates\n",
    "\n",
    "#pandas duplicated"
   ]
  }
 ],
 "metadata": {
  "kernelspec": {
   "display_name": "learn-env",
   "language": "python",
   "name": "learn-env"
  },
  "language_info": {
   "codemirror_mode": {
    "name": "ipython",
    "version": 3
   },
   "file_extension": ".py",
   "mimetype": "text/x-python",
   "name": "python",
   "nbconvert_exporter": "python",
   "pygments_lexer": "ipython3",
   "version": "3.8.5"
  }
 },
 "nbformat": 4,
 "nbformat_minor": 4
}
