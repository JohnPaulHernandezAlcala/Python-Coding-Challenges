{
 "cells": [
  {
   "cell_type": "markdown",
   "metadata": {},
   "source": [
    "Below is how the solution should be formated to run tests and submit code"
   ]
  },
  {
   "cell_type": "markdown",
   "metadata": {
    "scrolled": true
   },
   "source": [
    "##### Definition for singly-linked list.\n",
    "class ListNode:\n",
    "    def __init__(self, val=0, next=None):\n",
    "        self.val = val\n",
    "        self.next = next\n",
    "class Solution:\n",
    "    def addTwoNumbers(self, l1: ListNode, l2: ListNode) -> ListNode:\n",
    "    #The arrow above just means the return should be a ListNode.\n",
    "        \n",
    "        "
   ]
  },
  {
   "cell_type": "markdown",
   "metadata": {},
   "source": [
    "From above, we see that above uses a singly-linked list which we achieve by uisng a node class. Let us practice with one to understand what is happening"
   ]
  },
  {
   "cell_type": "code",
   "execution_count": 9,
   "metadata": {},
   "outputs": [],
   "source": [
    "class ListNode:\n",
    "    def __init__(self, val=0, next=None):\n",
    "        self.val = val\n",
    "        self.next = next"
   ]
  },
  {
   "cell_type": "code",
   "execution_count": 10,
   "metadata": {
    "scrolled": false
   },
   "outputs": [
    {
     "data": {
      "text/plain": [
       "(<__main__.ListNode at 0x28bc0fd43a0>,\n",
       " [1, 2, 3],\n",
       " None,\n",
       " <__main__.ListNode at 0x28bc0fd45e0>,\n",
       " [4, 5, 6],\n",
       " None)"
      ]
     },
     "execution_count": 10,
     "metadata": {},
     "output_type": "execute_result"
    }
   ],
   "source": [
    "l1 = ListNode([1,2,3])\n",
    "l2 = ListNode([4,5,6])\n",
    "l1, l1.val, l1.next, l2, l2.val, l2.next\n"
   ]
  },
  {
   "cell_type": "markdown",
   "metadata": {},
   "source": [
    "Above we see the memory location and value of l1. We also see that it points next to None. This is the same case for l2"
   ]
  },
  {
   "cell_type": "code",
   "execution_count": 11,
   "metadata": {},
   "outputs": [
    {
     "data": {
      "text/plain": [
       "(<__main__.ListNode at 0x28bc0fd43a0>,\n",
       " [1, 2, 3],\n",
       " <__main__.ListNode at 0x28bc0fd45e0>,\n",
       " <__main__.ListNode at 0x28bc0fd45e0>)"
      ]
     },
     "execution_count": 11,
     "metadata": {},
     "output_type": "execute_result"
    }
   ],
   "source": [
    "l1.next = l2\n",
    "l1, l1.val, l1.next, l2"
   ]
  },
  {
   "cell_type": "markdown",
   "metadata": {},
   "source": [
    "Note from above, we see that l1 is now pointing to the memory location of l2 which gives the following familiar array!"
   ]
  },
  {
   "cell_type": "code",
   "execution_count": 14,
   "metadata": {},
   "outputs": [
    {
     "data": {
      "text/plain": [
       "[4, 5, 6]"
      ]
     },
     "execution_count": 14,
     "metadata": {},
     "output_type": "execute_result"
    }
   ],
   "source": [
    "l1.next.val"
   ]
  },
  {
   "cell_type": "markdown",
   "metadata": {},
   "source": [
    "Thinking about the problem we need to be able to carry when doing the sum of two numbers. For example [9] + [9] = [1, 8]. To do this we should take a look at modulus and integer division operators. Below we want our number to cut off at 10. To understand modulus, subtract the top number from the bottom number. To understand integer division, divid the numbers and keep the whole number without rounding "
   ]
  },
  {
   "cell_type": "code",
   "execution_count": 31,
   "metadata": {},
   "outputs": [
    {
     "data": {
      "text/plain": [
       "8"
      ]
     },
     "execution_count": 31,
     "metadata": {},
     "output_type": "execute_result"
    }
   ],
   "source": [
    "18%10"
   ]
  },
  {
   "cell_type": "code",
   "execution_count": 29,
   "metadata": {},
   "outputs": [
    {
     "data": {
      "text/plain": [
       "1"
      ]
     },
     "execution_count": 29,
     "metadata": {},
     "output_type": "execute_result"
    }
   ],
   "source": [
    "18//10"
   ]
  },
  {
   "cell_type": "code",
   "execution_count": null,
   "metadata": {},
   "outputs": [],
   "source": [
    "#Here is a solution that works"
   ]
  },
  {
   "cell_type": "code",
   "execution_count": null,
   "metadata": {},
   "outputs": [],
   "source": [
    "class Solution:\n",
    "# @return a ListNode\n",
    "def addTwoNumbers(self, l1, l2):\n",
    "    carry = 0\n",
    "    root = n = ListNode(0)\n",
    "    while l1 or l2 or carry:\n",
    "        v1 = v2 = 0\n",
    "        if l1:\n",
    "            v1 = l1.val\n",
    "            l1 = l1.next\n",
    "        if l2:\n",
    "            v2 = l2.val\n",
    "            l2 = l2.next\n",
    "        carry, val = divmod(v1+v2+carry, 10)\n",
    "        n.next = ListNode(val)\n",
    "        n = n.next\n",
    "    return root.next"
   ]
  }
 ],
 "metadata": {
  "kernelspec": {
   "display_name": "learn-env",
   "language": "python",
   "name": "learn-env"
  },
  "language_info": {
   "codemirror_mode": {
    "name": "ipython",
    "version": 3
   },
   "file_extension": ".py",
   "mimetype": "text/x-python",
   "name": "python",
   "nbconvert_exporter": "python",
   "pygments_lexer": "ipython3",
   "version": "3.8.5"
  }
 },
 "nbformat": 4,
 "nbformat_minor": 4
}
