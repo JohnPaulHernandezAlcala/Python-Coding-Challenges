{
 "cells": [
  {
   "cell_type": "markdown",
   "metadata": {},
   "source": [
    "Below is how the solution should be formated to run tests and submit code"
   ]
  },
  {
   "cell_type": "markdown",
   "metadata": {
    "scrolled": true
   },
   "source": [
    "##### Definition for singly-linked list.\n",
    "class ListNode:\n",
    "    def __init__(self, val=0, next=None):\n",
    "        self.val = val\n",
    "        self.next = next\n",
    "class Solution:\n",
    "    def addTwoNumbers(self, l1: ListNode, l2: ListNode) -> ListNode:\n",
    "    #The arrow above just means the return should be a ListNode.\n",
    "        \n",
    "        "
   ]
  },
  {
   "cell_type": "markdown",
   "metadata": {},
   "source": [
    "From above, we see that above uses a singly-linked list which we achieve by uisng a node class. Let us practice with one to understand what is happening"
   ]
  },
  {
   "cell_type": "code",
   "execution_count": 34,
   "metadata": {},
   "outputs": [],
   "source": [
    "class ListNode:\n",
    "    def __init__(self, val=0, next=None):\n",
    "        self.val = val\n",
    "        self.next = next"
   ]
  },
  {
   "cell_type": "markdown",
   "metadata": {},
   "source": [
    "So below we will make a node for each number and string them along (connect them) with .next"
   ]
  },
  {
   "cell_type": "code",
   "execution_count": 142,
   "metadata": {
    "scrolled": false
   },
   "outputs": [
    {
     "name": "stdout",
     "output_type": "stream",
     "text": [
      "L1 List--Memory Location, Value: \n",
      " <__main__.ListNode object at 0x0000028BC280B2B0> 1 \n",
      " <__main__.ListNode object at 0x0000028BC2424700> 2 \n",
      " <__main__.ListNode object at 0x0000028BC23F3820> 3  \n",
      " L2 List--Memory Location, Value: \n",
      " <__main__.ListNode object at 0x0000028BC280B550> 4 \n",
      " <__main__.ListNode object at 0x0000028BC1C74D30> 5 \n",
      " <__main__.ListNode object at 0x0000028BC2410CA0> 6  \n",
      "\n"
     ]
    }
   ],
   "source": [
    "l1 = ListNode(1)\n",
    "l1.next = ListNode(2)\n",
    "l1.next.next = ListNode(3)\n",
    "\n",
    "l2 = ListNode(4)\n",
    "l2.next = ListNode(5)\n",
    "l2.next.next = ListNode(6)\n",
    "\n",
    "print('L1 List--Memory Location, Value: \\n', l1, l1.val, '\\n', l1.next, l1.next.val, '\\n', l1.next.next, l1.next.next.val,' \\n',\n",
    "      'L2 List--Memory Location, Value: \\n', l2, l2.val, '\\n', l2.next, l2.next.val, '\\n', l2.next.next, l2.next.next.val,' \\n')\n"
   ]
  },
  {
   "cell_type": "markdown",
   "metadata": {},
   "source": [
    "Above we see the memory locations and associated values of l1. This is the same case for l2"
   ]
  },
  {
   "cell_type": "markdown",
   "metadata": {},
   "source": [
    "Thinking about the problem we need to be able to carry when doing the sum of two numbers. For example [9] + [9] = [1, 8]. To do this we should take a look at modulus(%) and integer division operators (//). Below we want our number to cut off at 10. To understand modulus, subtract the top number from the bottom number if the number to the left of % is equal to or greater than the right number. To understand integer division, divide the numbers and keep the whole number without rounding "
   ]
  },
  {
   "cell_type": "code",
   "execution_count": 31,
   "metadata": {},
   "outputs": [
    {
     "data": {
      "text/plain": [
       "8"
      ]
     },
     "execution_count": 31,
     "metadata": {},
     "output_type": "execute_result"
    }
   ],
   "source": [
    "18%10"
   ]
  },
  {
   "cell_type": "code",
   "execution_count": 29,
   "metadata": {},
   "outputs": [
    {
     "data": {
      "text/plain": [
       "1"
      ]
     },
     "execution_count": 29,
     "metadata": {},
     "output_type": "execute_result"
    }
   ],
   "source": [
    "18//10"
   ]
  },
  {
   "cell_type": "markdown",
   "metadata": {},
   "source": [
    "These two operators are exactly what divmod uses. divmod returns a tuple (x//y, x%y)"
   ]
  },
  {
   "cell_type": "code",
   "execution_count": 33,
   "metadata": {},
   "outputs": [
    {
     "data": {
      "text/plain": [
       "(1, 8)"
      ]
     },
     "execution_count": 33,
     "metadata": {},
     "output_type": "execute_result"
    }
   ],
   "source": [
    "divmod(18, 10)"
   ]
  },
  {
   "cell_type": "markdown",
   "metadata": {},
   "source": [
    "Let us practice what we want to do with adding two arrays. Let us imagine adding 159 + 863 = 1022. However we have [9,5,1] and [3,6,8] and we want [2,2,0,1] returned."
   ]
  },
  {
   "cell_type": "code",
   "execution_count": 164,
   "metadata": {},
   "outputs": [
    {
     "name": "stdout",
     "output_type": "stream",
     "text": [
      " L1 List--Values: \n",
      " 9 \n",
      " 5 \n",
      " 1  \n",
      " L2 List--Value: \n",
      " 3 \n",
      " 6 \n",
      " 8  \n",
      "\n"
     ]
    }
   ],
   "source": [
    "return_array = []\n",
    "l1 = ListNode(9)\n",
    "l1.next = ListNode(5)\n",
    "l1.next.next = ListNode(1)\n",
    "\n",
    "l2 = ListNode(3)\n",
    "l2.next = ListNode(6)\n",
    "l2.next.next = ListNode(8)\n",
    "print(' L1 List--Values: \\n', l1.val, '\\n', l1.next.val, '\\n', l1.next.next.val,' \\n',\n",
    "      'L2 List--Value: \\n', l2.val, '\\n',l2.next.val, '\\n',l2.next.next.val,' \\n')"
   ]
  },
  {
   "cell_type": "code",
   "execution_count": 165,
   "metadata": {},
   "outputs": [
    {
     "name": "stdout",
     "output_type": "stream",
     "text": [
      "12 ---> (1, 2)\n"
     ]
    },
    {
     "data": {
      "text/plain": [
       "[2]"
      ]
     },
     "execution_count": 165,
     "metadata": {},
     "output_type": "execute_result"
    }
   ],
   "source": [
    "carry = 0\n",
    "result = l1.val+l2.val+carry\n",
    "print(result,'--->', divmod(result, 10))\n",
    "carry, val_to_append = divmod(result, 10)\n",
    "return_array.append(val_to_append)\n",
    "return_array"
   ]
  },
  {
   "cell_type": "code",
   "execution_count": 166,
   "metadata": {},
   "outputs": [
    {
     "name": "stdout",
     "output_type": "stream",
     "text": [
      "12 ---> (1, 2)\n"
     ]
    },
    {
     "data": {
      "text/plain": [
       "[2, 2]"
      ]
     },
     "execution_count": 166,
     "metadata": {},
     "output_type": "execute_result"
    }
   ],
   "source": [
    "result = l1.next.val+l2.next.val+carry\n",
    "print(result,'--->', divmod(result, 10))\n",
    "carry, val_to_append = divmod(result, 10)\n",
    "return_array.append(val_to_append)\n",
    "return_array"
   ]
  },
  {
   "cell_type": "code",
   "execution_count": 167,
   "metadata": {},
   "outputs": [
    {
     "name": "stdout",
     "output_type": "stream",
     "text": [
      "10 ---> (1, 0)\n"
     ]
    },
    {
     "data": {
      "text/plain": [
       "[2, 2, 0]"
      ]
     },
     "execution_count": 167,
     "metadata": {},
     "output_type": "execute_result"
    }
   ],
   "source": [
    "result = l1.next.next.val+l2.next.next.val+carry\n",
    "print(result,'--->', divmod(result, 10))\n",
    "carry, val_to_append = divmod(result, 10)\n",
    "return_array.append(val_to_append)\n",
    "return_array"
   ]
  },
  {
   "cell_type": "code",
   "execution_count": 168,
   "metadata": {},
   "outputs": [
    {
     "data": {
      "text/plain": [
       "[2, 2, 0, 1]"
      ]
     },
     "execution_count": 168,
     "metadata": {},
     "output_type": "execute_result"
    }
   ],
   "source": [
    "return_array.append(carry)\n",
    "return_array"
   ]
  },
  {
   "cell_type": "markdown",
   "metadata": {},
   "source": [
    "The above is almost correct, but we need to return a ListNode, and we need a conditional that can automate the above. From below we see that at the end of our linked values, the value None is returned:"
   ]
  },
  {
   "cell_type": "code",
   "execution_count": 172,
   "metadata": {},
   "outputs": [
    {
     "data": {
      "text/plain": [
       "NoneType"
      ]
     },
     "execution_count": 172,
     "metadata": {},
     "output_type": "execute_result"
    }
   ],
   "source": [
    "type(l1.next.next.next)"
   ]
  },
  {
   "cell_type": "code",
   "execution_count": 200,
   "metadata": {},
   "outputs": [
    {
     "name": "stdout",
     "output_type": "stream",
     "text": [
      " L1 List--Values: \n",
      " 9 \n",
      " 5 \n",
      " 1  \n",
      " L2 List--Value: \n",
      " 3 \n",
      " 6 \n",
      " 8  \n",
      "\n"
     ]
    }
   ],
   "source": [
    "l1 = ListNode(9)\n",
    "l1.next = ListNode(5)\n",
    "l1.next.next = ListNode(1)\n",
    "\n",
    "l2 = ListNode(3)\n",
    "l2.next = ListNode(6)\n",
    "l2.next.next = ListNode(8)\n",
    "print(' L1 List--Values: \\n', l1.val, '\\n', l1.next.val, '\\n', l1.next.next.val,' \\n',\n",
    "      'L2 List--Value: \\n', l2.val, '\\n',l2.next.val, '\\n',l2.next.next.val,' \\n')"
   ]
  },
  {
   "cell_type": "code",
   "execution_count": 201,
   "metadata": {},
   "outputs": [
    {
     "name": "stdout",
     "output_type": "stream",
     "text": [
      "0\n",
      "0\n",
      "0\n",
      "0\n",
      "2\n",
      "0 \n",
      "\n",
      "2\n",
      "0\n",
      "2\n",
      "0\n"
     ]
    },
    {
     "ename": "AttributeError",
     "evalue": "'NoneType' object has no attribute 'val'",
     "output_type": "error",
     "traceback": [
      "\u001b[1;31m---------------------------------------------------------------------------\u001b[0m",
      "\u001b[1;31mAttributeError\u001b[0m                            Traceback (most recent call last)",
      "\u001b[1;32m<ipython-input-201-15cea9d31132>\u001b[0m in \u001b[0;36m<module>\u001b[1;34m\u001b[0m\n\u001b[0;32m     16\u001b[0m     \u001b[0mprint\u001b[0m\u001b[1;33m(\u001b[0m\u001b[0mroot\u001b[0m\u001b[1;33m.\u001b[0m\u001b[0mval\u001b[0m\u001b[1;33m)\u001b[0m\u001b[1;33m\u001b[0m\u001b[1;33m\u001b[0m\u001b[0m\n\u001b[0;32m     17\u001b[0m     \u001b[0mn\u001b[0m \u001b[1;33m=\u001b[0m \u001b[0mn\u001b[0m\u001b[1;33m.\u001b[0m\u001b[0mnext\u001b[0m\u001b[1;33m\u001b[0m\u001b[1;33m\u001b[0m\u001b[0m\n\u001b[1;32m---> 18\u001b[1;33m     \u001b[0mprint\u001b[0m\u001b[1;33m(\u001b[0m\u001b[0mn\u001b[0m\u001b[1;33m.\u001b[0m\u001b[0mval\u001b[0m\u001b[1;33m)\u001b[0m\u001b[1;33m\u001b[0m\u001b[1;33m\u001b[0m\u001b[0m\n\u001b[0m\u001b[0;32m     19\u001b[0m     \u001b[0mprint\u001b[0m\u001b[1;33m(\u001b[0m\u001b[0mroot\u001b[0m\u001b[1;33m.\u001b[0m\u001b[0mval\u001b[0m\u001b[1;33m,\u001b[0m \u001b[1;34m'\\n'\u001b[0m\u001b[1;33m)\u001b[0m\u001b[1;33m\u001b[0m\u001b[1;33m\u001b[0m\u001b[0m\n",
      "\u001b[1;31mAttributeError\u001b[0m: 'NoneType' object has no attribute 'val'"
     ]
    }
   ],
   "source": [
    "carry = 0\n",
    "root = n = ListNode(0) #intiate a zero ListNode/memory location\n",
    "while l1 or l2 or carry: #condition takes into account if l1/l2 empty but carry has a value\n",
    "    v1 = v2 = 0 #assumes zero unless there is a number present so we can add\n",
    "    if l1:\n",
    "        v1 = l1.val\n",
    "        l1 = l1.next\n",
    "    if l2:\n",
    "        v2 = l2.val\n",
    "        l2 = l2.next\n",
    "    carry, val = divmod(v1+v2+carry, 10)\n",
    "    print(n.val)\n",
    "    print(root.val)\n",
    "    root.next = ListNode(val)\n",
    "    print(n.val)\n",
    "    print(root.val)\n",
    "    n = n.next\n",
    "    print(n.val)\n",
    "    print(root.val, '\\n')"
   ]
  },
  {
   "cell_type": "code",
   "execution_count": 198,
   "metadata": {},
   "outputs": [
    {
     "ename": "AttributeError",
     "evalue": "'NoneType' object has no attribute 'val'",
     "output_type": "error",
     "traceback": [
      "\u001b[1;31m---------------------------------------------------------------------------\u001b[0m",
      "\u001b[1;31mAttributeError\u001b[0m                            Traceback (most recent call last)",
      "\u001b[1;32m<ipython-input-198-c0d24f241027>\u001b[0m in \u001b[0;36m<module>\u001b[1;34m\u001b[0m\n\u001b[1;32m----> 1\u001b[1;33m \u001b[0mn\u001b[0m\u001b[1;33m.\u001b[0m\u001b[0mval\u001b[0m\u001b[1;33m,\u001b[0m \u001b[0mn\u001b[0m\u001b[1;33m.\u001b[0m\u001b[0mnext\u001b[0m\u001b[1;33m\u001b[0m\u001b[1;33m\u001b[0m\u001b[0m\n\u001b[0m",
      "\u001b[1;31mAttributeError\u001b[0m: 'NoneType' object has no attribute 'val'"
     ]
    }
   ],
   "source": [
    "n.val, n.next"
   ]
  },
  {
   "cell_type": "code",
   "execution_count": 199,
   "metadata": {},
   "outputs": [
    {
     "data": {
      "text/plain": [
       "(0, <__main__.ListNode at 0x28bc248e7c0>)"
      ]
     },
     "execution_count": 199,
     "metadata": {},
     "output_type": "execute_result"
    }
   ],
   "source": [
    "root.val, root.next"
   ]
  },
  {
   "cell_type": "code",
   "execution_count": 195,
   "metadata": {},
   "outputs": [
    {
     "ename": "AttributeError",
     "evalue": "'NoneType' object has no attribute 'val'",
     "output_type": "error",
     "traceback": [
      "\u001b[1;31m---------------------------------------------------------------------------\u001b[0m",
      "\u001b[1;31mAttributeError\u001b[0m                            Traceback (most recent call last)",
      "\u001b[1;32m<ipython-input-195-869ae9b6a0c5>\u001b[0m in \u001b[0;36m<module>\u001b[1;34m\u001b[0m\n\u001b[1;32m----> 1\u001b[1;33m \u001b[0mroot\u001b[0m\u001b[1;33m.\u001b[0m\u001b[0mnext\u001b[0m\u001b[1;33m.\u001b[0m\u001b[0mval\u001b[0m\u001b[1;33m,\u001b[0m \u001b[0mroot\u001b[0m\u001b[1;33m.\u001b[0m\u001b[0mnext\u001b[0m\u001b[1;33m.\u001b[0m\u001b[0mnext\u001b[0m\u001b[1;33m.\u001b[0m\u001b[0mval\u001b[0m\u001b[1;33m,\u001b[0m \u001b[0mroot\u001b[0m\u001b[1;33m.\u001b[0m\u001b[0mnext\u001b[0m\u001b[1;33m.\u001b[0m\u001b[0mnext\u001b[0m\u001b[1;33m.\u001b[0m\u001b[0mnext\u001b[0m\u001b[1;33m.\u001b[0m\u001b[0mval\u001b[0m\u001b[1;33m,\u001b[0m \u001b[0mroot\u001b[0m\u001b[1;33m.\u001b[0m\u001b[0mnext\u001b[0m\u001b[1;33m.\u001b[0m\u001b[0mnext\u001b[0m\u001b[1;33m.\u001b[0m\u001b[0mnext\u001b[0m\u001b[1;33m.\u001b[0m\u001b[0mnext\u001b[0m\u001b[1;33m.\u001b[0m\u001b[0mval\u001b[0m\u001b[1;33m\u001b[0m\u001b[1;33m\u001b[0m\u001b[0m\n\u001b[0m",
      "\u001b[1;31mAttributeError\u001b[0m: 'NoneType' object has no attribute 'val'"
     ]
    }
   ],
   "source": [
    "root.next.val, root.next.next.val, root.next.next.next.val, root.next.next.next.next.val"
   ]
  },
  {
   "cell_type": "code",
   "execution_count": null,
   "metadata": {},
   "outputs": [],
   "source": [
    "#Here is a solution that works     "
   ]
  },
  {
   "cell_type": "code",
   "execution_count": null,
   "metadata": {},
   "outputs": [],
   "source": [
    "class Solution:\n",
    "# @return a ListNode\n",
    "def addTwoNumbers(self, l1, l2):\n",
    "    carry = 0\n",
    "    root = n = ListNode(0) #intiate a zero ListNode/memory location\n",
    "    while l1 or l2 or carry: #condition takes into account if l1/l2 empty but carry has a value\n",
    "        v1 = v2 = 0 #assumes zero unless there is a number present so we can add\n",
    "        if l1:\n",
    "            v1 = l1.val\n",
    "            l1 = l1.next\n",
    "        if l2:\n",
    "            v2 = l2.val\n",
    "            l2 = l2.next\n",
    "        carry, val = divmod(v1+v2+carry, 10)\n",
    "        n.next = ListNode(val)\n",
    "        n = n.next\n",
    "    return root.next"
   ]
  }
 ],
 "metadata": {
  "kernelspec": {
   "display_name": "learn-env",
   "language": "python",
   "name": "learn-env"
  },
  "language_info": {
   "codemirror_mode": {
    "name": "ipython",
    "version": 3
   },
   "file_extension": ".py",
   "mimetype": "text/x-python",
   "name": "python",
   "nbconvert_exporter": "python",
   "pygments_lexer": "ipython3",
   "version": "3.8.5"
  }
 },
 "nbformat": 4,
 "nbformat_minor": 4
}
