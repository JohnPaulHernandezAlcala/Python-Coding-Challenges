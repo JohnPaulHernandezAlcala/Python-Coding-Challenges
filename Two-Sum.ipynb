{
 "cells": [
  {
   "cell_type": "markdown",
   "metadata": {},
   "source": [
    "Given an array of integers nums and an integer target, return indices of the two numbers such that they add up to target.\n",
    "\n",
    "You may assume that each input would have exactly one solution, and you may not use the same element twice.\n",
    "\n",
    "You can return the answer in any order.\n",
    "\n",
    " \n",
    "\n",
    "Example 1:\n",
    "\n",
    "Input: nums = [2,7,11,15], target = 9\n",
    "Output: [0,1]\n",
    "Output: Because nums[0] + nums[1] == 9, we return [0, 1].\n",
    "Example 2:\n",
    "\n",
    "Input: nums = [3,2,4], target = 6\n",
    "Output: [1,2]\n",
    "Example 3:\n",
    "\n",
    "Input: nums = [3,3], target = 6\n",
    "Output: [0,1]\n",
    " \n",
    "\n",
    "Constraints:\n",
    "\n",
    "2 <= nums.length <= 103\n",
    "-109 <= nums[i] <= 109\n",
    "-109 <= target <= 109\n",
    "Only one valid answer exists."
   ]
  },
  {
   "cell_type": "code",
   "execution_count": 6,
   "metadata": {},
   "outputs": [],
   "source": [
    "import pandas as pd\n",
    "import numpy as np"
   ]
  },
  {
   "cell_type": "markdown",
   "metadata": {},
   "source": [
    "Here is my solution I derived from the work shown later on."
   ]
  },
  {
   "cell_type": "code",
   "execution_count": 1,
   "metadata": {},
   "outputs": [],
   "source": [
    "l1 = [2,7,11,15]\n",
    "t1 = 9\n",
    "\n",
    "import pandas as pd\n",
    "import numpy as np\n",
    "\n",
    "def twoSum(array, target):\n",
    "        \n",
    "    '''Inputs are an array of integer numbers and an integer  target. Outputs the indices of two\n",
    "    numbers such that they add up to the target\n",
    "\n",
    "    NOTE: For input array with exactly one solution and element only used once.\n",
    "    '''\n",
    "    indices_array = []\n",
    "    n = len(array) #Length of array\n",
    "\n",
    "    if n > 2:\n",
    "        # Multiple index possible solution\n",
    "        for i, num in enumerate(array):\n",
    "            print(i)\n",
    "            l1 = array.copy()\n",
    "            l1[i] = target+5 #make interger outside of target at selected index \n",
    "            print(l1)\n",
    "            result = np.where(np.array(l1)+num == target)[0]\n",
    "            print(result)\n",
    "            if result.size > 0:\n",
    "                indices_array.append(i)\n",
    "                indices_array.append(int(result))\n",
    "                return indices_array\n",
    "\n",
    "            else:\n",
    "                continue\n",
    "    elif n == 2:\n",
    "        # One possible solution\n",
    "        return [0,1] \n",
    "\n",
    "    else:\n",
    "        return None  \n"
   ]
  },
  {
   "cell_type": "markdown",
   "metadata": {},
   "source": [
    "Below are the arrays used to test the function"
   ]
  },
  {
   "cell_type": "code",
   "execution_count": 3,
   "metadata": {
    "scrolled": true
   },
   "outputs": [
    {
     "name": "stdout",
     "output_type": "stream",
     "text": [
      "0\n",
      "[14, 7, 11, 15]\n",
      "[1]\n"
     ]
    },
    {
     "data": {
      "text/plain": [
       "[0, 1]"
      ]
     },
     "execution_count": 3,
     "metadata": {},
     "output_type": "execute_result"
    }
   ],
   "source": [
    "twoSum(l1, t1)"
   ]
  },
  {
   "cell_type": "code",
   "execution_count": 4,
   "metadata": {},
   "outputs": [
    {
     "name": "stdout",
     "output_type": "stream",
     "text": [
      "0\n",
      "[11, 2, 4]\n",
      "[]\n",
      "1\n",
      "[3, 11, 4]\n",
      "[2]\n"
     ]
    },
    {
     "data": {
      "text/plain": [
       "[1, 2]"
      ]
     },
     "execution_count": 4,
     "metadata": {},
     "output_type": "execute_result"
    }
   ],
   "source": [
    "twoSum([3,2,4], 6)"
   ]
  },
  {
   "cell_type": "code",
   "execution_count": 5,
   "metadata": {},
   "outputs": [
    {
     "data": {
      "text/plain": [
       "[0, 1]"
      ]
     },
     "execution_count": 5,
     "metadata": {},
     "output_type": "execute_result"
    }
   ],
   "source": [
    "twoSum([3,3], 6)"
   ]
  },
  {
   "cell_type": "code",
   "execution_count": 6,
   "metadata": {
    "scrolled": true
   },
   "outputs": [
    {
     "name": "stdout",
     "output_type": "stream",
     "text": [
      "0\n",
      "[5, 4, 3, 0]\n",
      "[3]\n"
     ]
    },
    {
     "data": {
      "text/plain": [
       "[0, 3]"
      ]
     },
     "execution_count": 6,
     "metadata": {},
     "output_type": "execute_result"
    }
   ],
   "source": [
    "twoSum([0, 4, 3, 0], 0)"
   ]
  },
  {
   "cell_type": "code",
   "execution_count": 7,
   "metadata": {},
   "outputs": [
    {
     "name": "stdout",
     "output_type": "stream",
     "text": [
      "0\n",
      "[-3, -2, -3, -4, -5]\n",
      "[]\n",
      "1\n",
      "[-1, -3, -3, -4, -5]\n",
      "[]\n",
      "2\n",
      "[-1, -2, -3, -4, -5]\n",
      "[4]\n"
     ]
    },
    {
     "data": {
      "text/plain": [
       "[2, 4]"
      ]
     },
     "execution_count": 7,
     "metadata": {},
     "output_type": "execute_result"
    }
   ],
   "source": [
    "twoSum([-1, -2, -3, -4, -5], -8)"
   ]
  },
  {
   "cell_type": "markdown",
   "metadata": {},
   "source": [
    "Below is how I tested my program to get it to work"
   ]
  },
  {
   "cell_type": "code",
   "execution_count": 98,
   "metadata": {},
   "outputs": [
    {
     "data": {
      "text/plain": [
       "([2, 7, 11, 15], [7, 11, 15], 2)"
      ]
     },
     "execution_count": 98,
     "metadata": {},
     "output_type": "execute_result"
    }
   ],
   "source": [
    "l1 = [2,7,11,15]\n",
    "t1 = 9\n",
    "l2 = l1.copy()\n",
    "indice = 0\n",
    "num1 = l2.pop(indice)\n",
    "l1, l2, num1"
   ]
  },
  {
   "cell_type": "code",
   "execution_count": 99,
   "metadata": {},
   "outputs": [
    {
     "data": {
      "text/plain": [
       "array([ 4,  9, 13, 17])"
      ]
     },
     "execution_count": 99,
     "metadata": {},
     "output_type": "execute_result"
    }
   ],
   "source": [
    "np.array(l1) + num1"
   ]
  },
  {
   "cell_type": "code",
   "execution_count": 100,
   "metadata": {},
   "outputs": [
    {
     "data": {
      "text/plain": [
       "array([False,  True, False, False])"
      ]
     },
     "execution_count": 100,
     "metadata": {},
     "output_type": "execute_result"
    }
   ],
   "source": [
    "result = (np.array(l1) + num1) == t1\n",
    "result"
   ]
  },
  {
   "cell_type": "code",
   "execution_count": 101,
   "metadata": {},
   "outputs": [
    {
     "data": {
      "text/plain": [
       "True"
      ]
     },
     "execution_count": 101,
     "metadata": {},
     "output_type": "execute_result"
    }
   ],
   "source": [
    "result.any()"
   ]
  },
  {
   "cell_type": "code",
   "execution_count": 102,
   "metadata": {},
   "outputs": [
    {
     "data": {
      "text/plain": [
       "array([1], dtype=int64)"
      ]
     },
     "execution_count": 102,
     "metadata": {},
     "output_type": "execute_result"
    }
   ],
   "source": [
    "np.where(((np.array(l1) + num1) == t1) ==True)[0]"
   ]
  },
  {
   "cell_type": "code",
   "execution_count": 103,
   "metadata": {},
   "outputs": [],
   "source": [
    "indice_array = []"
   ]
  },
  {
   "cell_type": "code",
   "execution_count": 104,
   "metadata": {},
   "outputs": [
    {
     "data": {
      "text/plain": [
       "[0, 1]"
      ]
     },
     "execution_count": 104,
     "metadata": {},
     "output_type": "execute_result"
    }
   ],
   "source": [
    "indice_array.append(indice) \n",
    "indice_array.append(int(np.where(((np.array(l1) + num1) == t1) ==True)[0]))\n",
    "indice_array"
   ]
  },
  {
   "cell_type": "code",
   "execution_count": 29,
   "metadata": {},
   "outputs": [
    {
     "name": "stdout",
     "output_type": "stream",
     "text": [
      "11\n",
      "7\n",
      "2\n"
     ]
    }
   ],
   "source": [
    "while l2 != []:\n",
    "    print(l2.pop())"
   ]
  },
  {
   "cell_type": "code",
   "execution_count": 23,
   "metadata": {
    "scrolled": true
   },
   "outputs": [
    {
     "data": {
      "text/plain": [
       "[]"
      ]
     },
     "execution_count": 23,
     "metadata": {},
     "output_type": "execute_result"
    }
   ],
   "source": [
    "l2"
   ]
  },
  {
   "cell_type": "markdown",
   "metadata": {},
   "source": [
    "Submitted refined Solution Below:"
   ]
  },
  {
   "cell_type": "code",
   "execution_count": null,
   "metadata": {},
   "outputs": [],
   "source": [
    "import numpy as np\n",
    "class Solution:\n",
    "    def twoSum(self, array, target):\n",
    "        \n",
    "        '''Inputs are an array of integer numbers and an integer  target. Outputs the indices of two\n",
    "        numbers such that they add up to the target\n",
    "\n",
    "        NOTE: For input array with exactly one solution and element only used once.\n",
    "        '''\n",
    "        indices_array = []\n",
    "        n = len(array) #Length of array\n",
    "\n",
    "        if n > 2:\n",
    "            # Multiple index possible solution\n",
    "            for i, num in enumerate(array):\n",
    "                l1 = array.copy()\n",
    "                l1[i] = target+5 #make interger outside of target at selected index \n",
    "                result = np.where(np.array(l1)+num == target)[0]\n",
    "                if result:\n",
    "                    return [i, int(result)]\n",
    "\n",
    "                else:\n",
    "                    continue\n",
    "        elif n == 2:\n",
    "            # One possible solution\n",
    "            return [0,1] \n",
    "\n",
    "        else:\n",
    "            return None  "
   ]
  },
  {
   "cell_type": "markdown",
   "metadata": {},
   "source": [
    "Really short and understandable solution"
   ]
  },
  {
   "cell_type": "code",
   "execution_count": 214,
   "metadata": {},
   "outputs": [],
   "source": [
    "class Solution:\n",
    "    def twoSum(self, array, target):\n",
    "        for i in range(len(array)):\n",
    "            for j in range(len(array)):\n",
    "                if (array[i] + array[j] == target) and (i !=j):\n",
    "                    return[i, j]"
   ]
  }
 ],
 "metadata": {
  "kernelspec": {
   "display_name": "learn-env",
   "language": "python",
   "name": "learn-env"
  },
  "language_info": {
   "codemirror_mode": {
    "name": "ipython",
    "version": 3
   },
   "file_extension": ".py",
   "mimetype": "text/x-python",
   "name": "python",
   "nbconvert_exporter": "python",
   "pygments_lexer": "ipython3",
   "version": "3.8.5"
  }
 },
 "nbformat": 4,
 "nbformat_minor": 4
}
